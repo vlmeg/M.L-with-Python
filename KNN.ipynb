{
 "cells": [
  {
   "cell_type": "markdown",
   "metadata": {},
   "source": [
    "# KNN"
   ]
  },
  {
   "cell_type": "code",
   "execution_count": 2,
   "metadata": {
    "collapsed": true
   },
   "outputs": [],
   "source": [
    "import numpy as np\n",
    "import pandas as pd\n",
    "import matplotlib.pyplot as plt\n",
    "import matplotlib\n",
    "from sklearn import preprocessing\n",
    "from sklearn.decomposition import PCA\n",
    "matplotlib.style.use('ggplot') # Look Pretty"
   ]
  },
  {
   "cell_type": "code",
   "execution_count": 5,
   "metadata": {
    "collapsed": false
   },
   "outputs": [],
   "source": [
    "X = pd.read_csv('wheat.data')\n",
    "y = X.wheat_type\n",
    "X.drop(labels = ['id', 'wheat_type'], axis = 1, inplace = True)\n",
    "#Encode your 3 possible wheat types into a label that you can plot distinctly\n",
    "#\"nominal\" conversion of 'y' by encoding it to a SINGLE variable (e.g. 0, 1, 2)\n",
    "y = y.astype('category').cat.codes"
   ]
  },
  {
   "cell_type": "code",
   "execution_count": 7,
   "metadata": {
    "collapsed": false
   },
   "outputs": [
    {
     "name": "stdout",
     "output_type": "stream",
     "text": [
      "area           0\n",
      "perimeter      0\n",
      "compactness    3\n",
      "length         0\n",
      "width          1\n",
      "asymmetry      0\n",
      "groove         4\n",
      "dtype: int64\n",
      "0\n",
      "area           0\n",
      "perimeter      0\n",
      "compactness    0\n",
      "length         0\n",
      "width          0\n",
      "asymmetry      0\n",
      "groove         0\n",
      "dtype: int64\n"
     ]
    }
   ],
   "source": [
    "# Check for missing values!\n",
    "\n",
    "print X.isnull().sum() \n",
    "print y.isnull().sum() \n",
    "\n",
    "#Basic nan munging. Fill each row's nans with the mean of the feature\n",
    "\n",
    "X.compactness.fillna(X.compactness.mean(), inplace = True)\n",
    "X.width.fillna(X.width.mean(), inplace = True)\n",
    "X.groove.fillna(X.groove.mean(), inplace = True)\n",
    "\n",
    "\n",
    "print X.isnull().sum() # No more missing values"
   ]
  },
  {
   "cell_type": "code",
   "execution_count": 8,
   "metadata": {
    "collapsed": true
   },
   "outputs": [],
   "source": [
    "#\"normalize\" preprocessor to normalize X's feature data\n",
    "T = preprocessing.normalize(X)"
   ]
  },
  {
   "cell_type": "code",
   "execution_count": 11,
   "metadata": {
    "collapsed": true
   },
   "outputs": [],
   "source": [
    "# Project both your X_train and X_test features into PCA space\n",
    "pca = PCA(n_components = 2)\n",
    "pca_X = pca.fit_transform(T)"
   ]
  },
  {
   "cell_type": "code",
   "execution_count": 13,
   "metadata": {
    "collapsed": true
   },
   "outputs": [],
   "source": [
    "# Split out your training and testing data\n",
    "from sklearn.cross_validation import train_test_split\n",
    "X_train, X_test, y_train, y_test = train_test_split(pca_X, y, test_size = 0.33, random_state = 1)"
   ]
  },
  {
   "cell_type": "code",
   "execution_count": 14,
   "metadata": {
    "collapsed": false
   },
   "outputs": [
    {
     "data": {
      "text/plain": [
       "KNeighborsClassifier(algorithm='auto', leaf_size=30, metric='minkowski',\n",
       "           metric_params=None, n_jobs=1, n_neighbors=9, p=2,\n",
       "           weights='uniform')"
      ]
     },
     "execution_count": 14,
     "metadata": {},
     "output_type": "execute_result"
    }
   ],
   "source": [
    "# Run KNeighborsClassifier\n",
    "from sklearn.neighbors import KNeighborsClassifier\n",
    "knn = KNeighborsClassifier(n_neighbors = 9)\n",
    "knn.fit(X_train, y_train)"
   ]
  },
  {
   "cell_type": "code",
   "execution_count": 15,
   "metadata": {
    "collapsed": true
   },
   "outputs": [],
   "source": [
    "# Method for plotting desicion boundaries\n",
    "\n",
    "def plotDecisionBoundary(model, X, y):\n",
    "  fig = plt.figure()\n",
    "  ax = fig.add_subplot(111)\n",
    "\n",
    "  padding = 0.6\n",
    "  resolution = 0.0025\n",
    "  colors = ['royalblue','forestgreen','ghostwhite']\n",
    "\n",
    "  # Calculate the boundaries\n",
    "  x_min, x_max = X[:, 0].min(), X[:, 0].max()\n",
    "  y_min, y_max = X[:, 1].min(), X[:, 1].max()\n",
    "  x_range = x_max - x_min\n",
    "  y_range = y_max - y_min\n",
    "  x_min -= x_range * padding\n",
    "  y_min -= y_range * padding\n",
    "  x_max += x_range * padding\n",
    "  y_max += y_range * padding\n",
    "\n",
    "  # Create a 2D Grid Matrix. The values stored in the matrix are the predictions of the class at said location\n",
    "  xx, yy = np.meshgrid(np.arange(x_min, x_max, resolution), np.arange(y_min, y_max, resolution))\n",
    "\n",
    "  # What class does the classifier say?\n",
    "  Z = model.predict(np.c_[xx.ravel(), yy.ravel()])\n",
    "  Z = Z.reshape(xx.shape)\n",
    "\n",
    "  # Plot the contour map\n",
    "  plt.contourf(xx, yy, Z, cmap=plt.cm.terrain)\n",
    "  plt.axis('tight')\n",
    "\n",
    "  # Plot our original points as well...\n",
    "  for label in range(len(np.unique(y))):\n",
    "    indices = np.where(y == label)\n",
    "    plt.scatter(X[indices, 0], X[indices, 1], c=colors[label], label=str(label), alpha=0.8)\n",
    "\n",
    "  p = model.get_params()\n",
    "  plt.title('K = ' + str(p['n_neighbors']))"
   ]
  },
  {
   "cell_type": "code",
   "execution_count": 19,
   "metadata": {
    "collapsed": false
   },
   "outputs": [
    {
     "data": {
      "image/png": "[encoded data removed]",
      "text/plain": [
       "<matplotlib.figure.Figure at 0x1171e4b10>"
      ]
     },
     "metadata": {},
     "output_type": "display_data"
    },
    {
     "data": {
      "image/png": "[encoded data removed]",
      "text/plain": [
       "<matplotlib.figure.Figure at 0x1180e9d50>"
      ]
     },
     "metadata": {},
     "output_type": "display_data"
    }
   ],
   "source": [
    "plotDecisionBoundary(knn, X_test, y_test)\n",
    "plt.show()"
   ]
  },
  {
   "cell_type": "code",
   "execution_count": 20,
   "metadata": {
    "collapsed": false
   },
   "outputs": [
    {
     "name": "stdout",
     "output_type": "stream",
     "text": [
      "0.857142857143\n"
     ]
    }
   ],
   "source": [
    "# Accuracy score of your KNeighbors Classifier when K=9 \n",
    "print knn.score(X_test, y_test)"
   ]
  }
 ],
 "metadata": {
  "anaconda-cloud": {},
  "kernelspec": {
   "display_name": "Python [default]",
   "language": "python",
   "name": "python2"
  },
  "language_info": {
   "codemirror_mode": {
    "name": "ipython",
    "version": 2
   },
   "file_extension": ".py",
   "mimetype": "text/x-python",
   "name": "python",
   "nbconvert_exporter": "python",
   "pygments_lexer": "ipython2",
   "version": "2.7.12"
  }
 },
 "nbformat": 4,
 "nbformat_minor": 1
}
