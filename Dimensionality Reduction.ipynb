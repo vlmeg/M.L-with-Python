{
 "cells": [
  {
   "cell_type": "markdown",
   "metadata": {},
   "source": [
    "# Dimensionality Reduction"
   ]
  },
  {
   "cell_type": "markdown",
   "metadata": {},
   "source": [
    "## PCA"
   ]
  },
  {
   "cell_type": "markdown",
   "metadata": {},
   "source": [
    "* To handle the clear goal of reducing the dimensionality and thus complexity of your dataset.\n",
    "* To pre-process your data in preparation for other supervised learning tasks, such as regression and classification.\n",
    "* To make visualizing your data easier, since we can only perceive three dimensions simultaneously."
   ]
  },
  {
   "cell_type": "markdown",
   "metadata": {},
   "source": [
    "Being unupervisde PSA cannot tell you what exaclty the newly created features mean"
   ]
  },
  {
   "cell_type": "code",
   "execution_count": 2,
   "metadata": {
    "collapsed": true
   },
   "outputs": [],
   "source": [
    "def do_PCA(df):\n",
    "  from sklearn.decomposition import PCA\n",
    "  pca = PCA(n_components=2)\n",
    "  pca.fit(df)\n",
    "  T = pca.transform(df)\n",
    "  return T"
   ]
  },
  {
   "cell_type": "markdown",
   "metadata": {},
   "source": [
    "n_components : int, float, None or string\n",
    "Number of components to keep. if n_components is not set all components are kept:"
   ]
  },
  {
   "cell_type": "raw",
   "metadata": {},
   "source": [
    "* Recall that transforming the data will result in a NumPy NDArray. You can either use\n",
    "* MatPlotLib to graph it directly, or you can convert it to DataFrame and have pandas do it for you."
   ]
  }
 ],
 "metadata": {
  "anaconda-cloud": {},
  "kernelspec": {
   "display_name": "Python [default]",
   "language": "python",
   "name": "python2"
  },
  "language_info": {
   "codemirror_mode": {
    "name": "ipython",
    "version": 2
   },
   "file_extension": ".py",
   "mimetype": "text/x-python",
   "name": "python",
   "nbconvert_exporter": "python",
   "pygments_lexer": "ipython2",
   "version": "2.7.12"
  }
 },
 "nbformat": 4,
 "nbformat_minor": 1
}
