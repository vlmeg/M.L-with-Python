{
 "cells": [
  {
   "cell_type": "markdown",
   "metadata": {},
   "source": [
    "# Dimensionality Reduction"
   ]
  },
  {
   "cell_type": "markdown",
   "metadata": {},
   "source": [
    "## PCA"
   ]
  },
  {
   "cell_type": "markdown",
   "metadata": {},
   "source": [
    "Being unupervisde PSA cannot tell you what exaclty the newly created features mean"
   ]
  },
  {
   "cell_type": "code",
   "execution_count": 2,
   "metadata": {
    "collapsed": true
   },
   "outputs": [],
   "source": [
    "def do_PCA(df):\n",
    "  from sklearn.decomposition import PCA\n",
    "  pca = PCA(n_components=2)\n",
    "  pca.fit(df)\n",
    "  T = pca.transform(df)\n",
    "  return T"
   ]
  },
  {
   "cell_type": "markdown",
   "metadata": {},
   "source": [
    "n_components : int, float, None or string\n",
    "Number of components to keep. if n_components is not set all components are kept:"
   ]
  },
  {
   "cell_type": "raw",
   "metadata": {},
   "source": [
    "* Recall that transforming the data will result in a NumPy NDArray. You can either use\n",
    "* MatPlotLib to graph it directly, or you can convert it to DataFrame and have pandas do it for you."
   ]
  },
  {
   "cell_type": "markdown",
   "metadata": {},
   "source": [
    "* To handle the clear goal of reducing the dimensionality and thus complexity of your dataset.\n",
    "* To pre-process your data in preparation for other supervised learning tasks, such as regression and classification.\n",
    "* To make visualizing your data easier, since we can only perceive three dimensions simultaneously."
   ]
  },
  {
   "cell_type": "code",
   "execution_count": null,
   "metadata": {
    "collapsed": true
   },
   "outputs": [],
   "source": [
    "## ISOMAP"
   ]
  },
  {
   "cell_type": "markdown",
   "metadata": {},
   "source": [
    "PCA is faster faster than isomap in most cases, but it's limited since it assumes linear relatioship <br />\n",
    "Isomap is also an unsupervised learning technique that reduces the dimensionality of your dataset. No labels or classifications are needed to guide it except your raw data"
   ]
  },
  {
   "cell_type": "code",
   "execution_count": null,
   "metadata": {
    "collapsed": false
   },
   "outputs": [],
   "source": [
    "#Clearing the output of the \n",
    "#Basic Code\n",
    "from sklearn import manifold\n",
    "iso = manifold.Isomap(n_neighbors=4, n_components=2)\n",
    "iso.fit(df)\n",
    "Isomap(eigen_solver='auto', max_iter=None, n_components=2, n_neighbors=4,\n",
    "    neighbors_algorithm='auto', path_method='auto', tol=0)\n",
    "#n_components is the number of features you want your dataset projected onto\n",
    "#n_neighbors defines the neighborhood size used to create the node neighborhood map\n"
   ]
  },
  {
   "cell_type": "markdown",
   "metadata": {},
   "source": [
    "* A one sentence summary of isomap's implementation is that at its core, it is essentially a node distance map that has been fed into a special type of PCA correct\n",
    "* Isomap is most beneficial when a non-linear, geometric structure is expressed in your data\n",
    "* Manifold extraction, and isomap specifically are really good with vision recognition problems, speech problems, and many other real-world tasks, such as identifying similar objects, or objects that have undergone some change"
   ]
  },
  {
   "cell_type": "code",
   "execution_count": null,
   "metadata": {
    "collapsed": true
   },
   "outputs": [],
   "source": []
  }
 ],
 "metadata": {
  "anaconda-cloud": {},
  "kernelspec": {
   "display_name": "Python [default]",
   "language": "python",
   "name": "python2"
  },
  "language_info": {
   "codemirror_mode": {
    "name": "ipython",
    "version": 2
   },
   "file_extension": ".py",
   "mimetype": "text/x-python",
   "name": "python",
   "nbconvert_exporter": "python",
   "pygments_lexer": "ipython2",
   "version": "2.7.12"
  }
 },
 "nbformat": 4,
 "nbformat_minor": 1
}
